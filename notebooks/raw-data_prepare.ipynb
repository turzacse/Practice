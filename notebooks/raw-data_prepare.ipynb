{
 "cells": [
  {
   "cell_type": "markdown",
   "id": "420cce6f",
   "metadata": {},
   "source": [
    "import necessary dependencies"
   ]
  },
  {
   "cell_type": "code",
   "execution_count": 129,
   "id": "f9dde70e",
   "metadata": {},
   "outputs": [],
   "source": [
    "import pandas as pd"
   ]
  },
  {
   "cell_type": "markdown",
   "id": "0e0c85d0",
   "metadata": {},
   "source": [
    "raw data path"
   ]
  },
  {
   "cell_type": "code",
   "execution_count": 130,
   "id": "2f076694",
   "metadata": {},
   "outputs": [],
   "source": [
    "crop_data_path = '../raw-data/cpdata.csv'\n",
    "fertilizer_data_path = '../raw-data/Fertilizer.csv'"
   ]
  },
  {
   "cell_type": "markdown",
   "id": "183d2584",
   "metadata": {},
   "source": [
    "Reading data"
   ]
  },
  {
   "cell_type": "code",
   "execution_count": 131,
   "id": "b72a7ca6",
   "metadata": {},
   "outputs": [],
   "source": [
    "crop = pd.read_csv(crop_data_path)\n",
    "fert = pd.read_csv(fertilizer_data_path)"
   ]
  },
  {
   "cell_type": "code",
   "execution_count": 132,
   "id": "666f899b",
   "metadata": {},
   "outputs": [
    {
     "data": {
      "text/html": [
       "<div>\n",
       "<style scoped>\n",
       "    .dataframe tbody tr th:only-of-type {\n",
       "        vertical-align: middle;\n",
       "    }\n",
       "\n",
       "    .dataframe tbody tr th {\n",
       "        vertical-align: top;\n",
       "    }\n",
       "\n",
       "    .dataframe thead th {\n",
       "        text-align: right;\n",
       "    }\n",
       "</style>\n",
       "<table border=\"1\" class=\"dataframe\">\n",
       "  <thead>\n",
       "    <tr style=\"text-align: right;\">\n",
       "      <th></th>\n",
       "      <th>temperature</th>\n",
       "      <th>humidity</th>\n",
       "      <th>ph</th>\n",
       "      <th>rainfall</th>\n",
       "      <th>label</th>\n",
       "    </tr>\n",
       "  </thead>\n",
       "  <tbody>\n",
       "    <tr>\n",
       "      <th>0</th>\n",
       "      <td>20.879744</td>\n",
       "      <td>82.002744</td>\n",
       "      <td>6.502985</td>\n",
       "      <td>202.935536</td>\n",
       "      <td>rice</td>\n",
       "    </tr>\n",
       "    <tr>\n",
       "      <th>1</th>\n",
       "      <td>21.770462</td>\n",
       "      <td>80.319644</td>\n",
       "      <td>7.038096</td>\n",
       "      <td>226.655537</td>\n",
       "      <td>rice</td>\n",
       "    </tr>\n",
       "    <tr>\n",
       "      <th>2</th>\n",
       "      <td>23.004459</td>\n",
       "      <td>82.320763</td>\n",
       "      <td>7.840207</td>\n",
       "      <td>263.964248</td>\n",
       "      <td>rice</td>\n",
       "    </tr>\n",
       "    <tr>\n",
       "      <th>3</th>\n",
       "      <td>26.491096</td>\n",
       "      <td>80.158363</td>\n",
       "      <td>6.980401</td>\n",
       "      <td>242.864034</td>\n",
       "      <td>rice</td>\n",
       "    </tr>\n",
       "    <tr>\n",
       "      <th>4</th>\n",
       "      <td>20.130175</td>\n",
       "      <td>81.604873</td>\n",
       "      <td>7.628473</td>\n",
       "      <td>262.717340</td>\n",
       "      <td>rice</td>\n",
       "    </tr>\n",
       "  </tbody>\n",
       "</table>\n",
       "</div>"
      ],
      "text/plain": [
       "   temperature   humidity        ph    rainfall label\n",
       "0    20.879744  82.002744  6.502985  202.935536  rice\n",
       "1    21.770462  80.319644  7.038096  226.655537  rice\n",
       "2    23.004459  82.320763  7.840207  263.964248  rice\n",
       "3    26.491096  80.158363  6.980401  242.864034  rice\n",
       "4    20.130175  81.604873  7.628473  262.717340  rice"
      ]
     },
     "execution_count": 132,
     "metadata": {},
     "output_type": "execute_result"
    }
   ],
   "source": [
    "crop.head()"
   ]
  },
  {
   "cell_type": "code",
   "execution_count": 133,
   "id": "54d30e39",
   "metadata": {},
   "outputs": [
    {
     "data": {
      "text/html": [
       "<div>\n",
       "<style scoped>\n",
       "    .dataframe tbody tr th:only-of-type {\n",
       "        vertical-align: middle;\n",
       "    }\n",
       "\n",
       "    .dataframe tbody tr th {\n",
       "        vertical-align: top;\n",
       "    }\n",
       "\n",
       "    .dataframe thead th {\n",
       "        text-align: right;\n",
       "    }\n",
       "</style>\n",
       "<table border=\"1\" class=\"dataframe\">\n",
       "  <thead>\n",
       "    <tr style=\"text-align: right;\">\n",
       "      <th></th>\n",
       "      <th>Unnamed: 0</th>\n",
       "      <th>Crop</th>\n",
       "      <th>N</th>\n",
       "      <th>P</th>\n",
       "      <th>K</th>\n",
       "      <th>pH</th>\n",
       "    </tr>\n",
       "  </thead>\n",
       "  <tbody>\n",
       "    <tr>\n",
       "      <th>0</th>\n",
       "      <td>0</td>\n",
       "      <td>Rice</td>\n",
       "      <td>80</td>\n",
       "      <td>40</td>\n",
       "      <td>40</td>\n",
       "      <td>5.5</td>\n",
       "    </tr>\n",
       "    <tr>\n",
       "      <th>1</th>\n",
       "      <td>1</td>\n",
       "      <td>Jowar(Sorghum)</td>\n",
       "      <td>80</td>\n",
       "      <td>40</td>\n",
       "      <td>40</td>\n",
       "      <td>5.5</td>\n",
       "    </tr>\n",
       "    <tr>\n",
       "      <th>2</th>\n",
       "      <td>2</td>\n",
       "      <td>Barley(JAV)</td>\n",
       "      <td>70</td>\n",
       "      <td>40</td>\n",
       "      <td>45</td>\n",
       "      <td>5.5</td>\n",
       "    </tr>\n",
       "    <tr>\n",
       "      <th>3</th>\n",
       "      <td>3</td>\n",
       "      <td>Maize</td>\n",
       "      <td>80</td>\n",
       "      <td>40</td>\n",
       "      <td>20</td>\n",
       "      <td>5.5</td>\n",
       "    </tr>\n",
       "    <tr>\n",
       "      <th>4</th>\n",
       "      <td>4</td>\n",
       "      <td>Ragi( naachnnii)</td>\n",
       "      <td>50</td>\n",
       "      <td>40</td>\n",
       "      <td>20</td>\n",
       "      <td>5.5</td>\n",
       "    </tr>\n",
       "  </tbody>\n",
       "</table>\n",
       "</div>"
      ],
      "text/plain": [
       "   Unnamed: 0              Crop   N   P   K   pH\n",
       "0           0              Rice  80  40  40  5.5\n",
       "1           1    Jowar(Sorghum)  80  40  40  5.5\n",
       "2           2       Barley(JAV)  70  40  45  5.5\n",
       "3           3             Maize  80  40  20  5.5\n",
       "4           4  Ragi( naachnnii)  50  40  20  5.5"
      ]
     },
     "execution_count": 133,
     "metadata": {},
     "output_type": "execute_result"
    }
   ],
   "source": [
    "fert.head()"
   ]
  },
  {
   "cell_type": "code",
   "execution_count": 134,
   "id": "6519d35a",
   "metadata": {},
   "outputs": [],
   "source": [
    "# delete the column named 'Unnamed: 0' from the DataFrame fert\n",
    "\n",
    "del fert['Unnamed: 0']"
   ]
  },
  {
   "cell_type": "code",
   "execution_count": 135,
   "id": "e56be7f7",
   "metadata": {},
   "outputs": [
    {
     "name": "stdout",
     "output_type": "stream",
     "text": [
      "Index(['Crop', 'N', 'P', 'K', 'pH'], dtype='object')\n"
     ]
    }
   ],
   "source": [
    "print(fert.columns)"
   ]
  },
  {
   "cell_type": "code",
   "execution_count": 136,
   "id": "1430f90b",
   "metadata": {},
   "outputs": [
    {
     "name": "stdout",
     "output_type": "stream",
     "text": [
      "<class 'pandas.core.frame.DataFrame'>\n",
      "RangeIndex: 3100 entries, 0 to 3099\n",
      "Data columns (total 5 columns):\n",
      " #   Column       Non-Null Count  Dtype  \n",
      "---  ------       --------------  -----  \n",
      " 0   temperature  3100 non-null   float64\n",
      " 1   humidity     3100 non-null   float64\n",
      " 2   ph           3100 non-null   float64\n",
      " 3   rainfall     3100 non-null   float64\n",
      " 4   label        3100 non-null   object \n",
      "dtypes: float64(4), object(1)\n",
      "memory usage: 121.2+ KB\n"
     ]
    }
   ],
   "source": [
    "crop.info()"
   ]
  },
  {
   "cell_type": "code",
   "execution_count": 137,
   "id": "b1688a3c",
   "metadata": {},
   "outputs": [
    {
     "name": "stdout",
     "output_type": "stream",
     "text": [
      "<class 'pandas.core.frame.DataFrame'>\n",
      "RangeIndex: 1843 entries, 0 to 1842\n",
      "Data columns (total 5 columns):\n",
      " #   Column  Non-Null Count  Dtype  \n",
      "---  ------  --------------  -----  \n",
      " 0   Crop    1843 non-null   object \n",
      " 1   N       1843 non-null   int64  \n",
      " 2   P       1843 non-null   int64  \n",
      " 3   K       1843 non-null   int64  \n",
      " 4   pH      1843 non-null   float64\n",
      "dtypes: float64(1), int64(3), object(1)\n",
      "memory usage: 72.1+ KB\n"
     ]
    }
   ],
   "source": [
    "fert.info()"
   ]
  },
  {
   "cell_type": "code",
   "execution_count": 138,
   "id": "7b06dee5",
   "metadata": {},
   "outputs": [],
   "source": [
    "def change_case(i):\n",
    "    i = i.strip()  # removes leading and trailing whitespace\n",
    "    i = i.replace(\" \", \"\")  # removes all spaces\n",
    "    i = i.lower()  # converts to lowercase\n",
    "    return i"
   ]
  },
  {
   "cell_type": "code",
   "execution_count": 139,
   "id": "833db697",
   "metadata": {},
   "outputs": [],
   "source": [
    "fert['Crop'] = fert['Crop'].apply(change_case)\n",
    "crop['label'] = crop['label'].apply(change_case)"
   ]
  },
  {
   "cell_type": "code",
   "execution_count": 140,
   "id": "e3343d1c",
   "metadata": {},
   "outputs": [
    {
     "data": {
      "text/html": [
       "<div>\n",
       "<style scoped>\n",
       "    .dataframe tbody tr th:only-of-type {\n",
       "        vertical-align: middle;\n",
       "    }\n",
       "\n",
       "    .dataframe tbody tr th {\n",
       "        vertical-align: top;\n",
       "    }\n",
       "\n",
       "    .dataframe thead th {\n",
       "        text-align: right;\n",
       "    }\n",
       "</style>\n",
       "<table border=\"1\" class=\"dataframe\">\n",
       "  <thead>\n",
       "    <tr style=\"text-align: right;\">\n",
       "      <th></th>\n",
       "      <th>temperature</th>\n",
       "      <th>humidity</th>\n",
       "      <th>ph</th>\n",
       "      <th>rainfall</th>\n",
       "      <th>label</th>\n",
       "    </tr>\n",
       "  </thead>\n",
       "  <tbody>\n",
       "    <tr>\n",
       "      <th>0</th>\n",
       "      <td>20.879744</td>\n",
       "      <td>82.002744</td>\n",
       "      <td>6.502985</td>\n",
       "      <td>202.935536</td>\n",
       "      <td>rice</td>\n",
       "    </tr>\n",
       "    <tr>\n",
       "      <th>1</th>\n",
       "      <td>21.770462</td>\n",
       "      <td>80.319644</td>\n",
       "      <td>7.038096</td>\n",
       "      <td>226.655537</td>\n",
       "      <td>rice</td>\n",
       "    </tr>\n",
       "    <tr>\n",
       "      <th>2</th>\n",
       "      <td>23.004459</td>\n",
       "      <td>82.320763</td>\n",
       "      <td>7.840207</td>\n",
       "      <td>263.964248</td>\n",
       "      <td>rice</td>\n",
       "    </tr>\n",
       "    <tr>\n",
       "      <th>3</th>\n",
       "      <td>26.491096</td>\n",
       "      <td>80.158363</td>\n",
       "      <td>6.980401</td>\n",
       "      <td>242.864034</td>\n",
       "      <td>rice</td>\n",
       "    </tr>\n",
       "    <tr>\n",
       "      <th>4</th>\n",
       "      <td>20.130175</td>\n",
       "      <td>81.604873</td>\n",
       "      <td>7.628473</td>\n",
       "      <td>262.717340</td>\n",
       "      <td>rice</td>\n",
       "    </tr>\n",
       "  </tbody>\n",
       "</table>\n",
       "</div>"
      ],
      "text/plain": [
       "   temperature   humidity        ph    rainfall label\n",
       "0    20.879744  82.002744  6.502985  202.935536  rice\n",
       "1    21.770462  80.319644  7.038096  226.655537  rice\n",
       "2    23.004459  82.320763  7.840207  263.964248  rice\n",
       "3    26.491096  80.158363  6.980401  242.864034  rice\n",
       "4    20.130175  81.604873  7.628473  262.717340  rice"
      ]
     },
     "execution_count": 140,
     "metadata": {},
     "output_type": "execute_result"
    }
   ],
   "source": [
    "crop.head()"
   ]
  },
  {
   "cell_type": "code",
   "execution_count": 141,
   "id": "d38b36da",
   "metadata": {},
   "outputs": [
    {
     "data": {
      "text/plain": [
       "array(['rice', 'wheat', 'mungbean', 'tea', 'millet', 'maize', 'lentil',\n",
       "       'jute', 'coffee', 'cotton', 'groundnut', 'peas', 'rubber',\n",
       "       'sugarcane', 'tobacco', 'kidneybeans', 'mothbeans', 'coconut',\n",
       "       'blackgram', 'adzukibeans', 'pigeonpeas', 'chickpea', 'banana',\n",
       "       'grapes', 'apple', 'mango', 'muskmelon', 'orange', 'papaya',\n",
       "       'pomegranate', 'watermelon'], dtype=object)"
      ]
     },
     "execution_count": 141,
     "metadata": {},
     "output_type": "execute_result"
    }
   ],
   "source": [
    "crop_names = crop['label'].unique()\n",
    "crop_names"
   ]
  },
  {
   "cell_type": "code",
   "execution_count": 142,
   "id": "9cfd1fba",
   "metadata": {},
   "outputs": [
    {
     "data": {
      "text/plain": [
       "array(['rice', 'jowar(sorghum)', 'barley(jav)', 'maize',\n",
       "       'ragi(naachnnii)', 'chickpeas(channa)', 'frenchbeans(farasbi)',\n",
       "       'favabeans(papdi-val)', 'limabeans(pavta)', 'clusterbeans(gavar)',\n",
       "       'soyabean', 'blackeyedbeans(chawli)', 'kidneybeans',\n",
       "       'pigeonpeas(toordal)', 'mothbean(matki)', 'mungbeans', 'greenpeas',\n",
       "       'horsegram(kulthi)', 'blackgram', 'rapeseed(mohri)',\n",
       "       'corianderseeds', 'mustardseeds', 'sesameseed', 'cuminseeds',\n",
       "       'lentils(masoordal)', 'brinjal', 'beetroot', 'bittergourd',\n",
       "       'bottlegourd', 'capsicum', 'cabbage', 'carrot', 'cauliflower',\n",
       "       'cucumber', 'corianderleaves', 'curryleaves', 'drumstick–moringa',\n",
       "       'chili', 'ladyfinger', 'mushroom', 'onion', 'potato', 'pumpkin',\n",
       "       'radish', 'olive', 'sweetpotato', 'fenugreekleaf(methi)',\n",
       "       'spinach', 'ridgegourd', 'gooseberry(amla)',\n",
       "       'jambun(syzygiumcumini)', 'ziziphusmauritiana(bor)',\n",
       "       'garciniaindica(kokam)', 'tamarind', 'tapioca(suran)', 'garlic',\n",
       "       'lemon', 'tomato', 'ashgourd', 'pineapple', 'pomegranate',\n",
       "       'banana', 'mango', 'grapes', 'jackfruit', 'guava', 'watermelon',\n",
       "       'muskmelon', 'apricot', 'apple', 'chickoo', 'custardapple',\n",
       "       'dates', 'figs', 'orange', 'papaya', 'aniseed', 'asafoetida',\n",
       "       'bayleaf', 'blackpepper', 'cardamom', 'cinnamon', 'cloves',\n",
       "       'jaiphal(nutmeg)', 'ginger', 'turmeric', 'cashewnuts', 'raisins',\n",
       "       'coconut', 'almondnut', 'arecanut', 'pistachionut', 'lemongrass',\n",
       "       'cotton', 'jute', 'coffee', 'sunflower'], dtype=object)"
      ]
     },
     "execution_count": 142,
     "metadata": {},
     "output_type": "execute_result"
    }
   ],
   "source": [
    "crop_names_from_fert = fert['Crop'].unique()\n",
    "crop_names_from_fert"
   ]
  },
  {
   "cell_type": "code",
   "execution_count": 143,
   "id": "3eabb379",
   "metadata": {},
   "outputs": [],
   "source": [
    "# make some changes in ferttilizer dataset\n",
    "# because the label crop names of crop and fert crop names are not same\n",
    "\n",
    "fert['Crop'] = fert['Crop'].replace('mungbeans','mungbean')\n",
    "fert['Crop'] = fert['Crop'].replace('lentils(masoordal)','lentil')\n",
    "fert['Crop'] = fert['Crop'].replace('pigeonpeas(toordal)','pigeonpeas')\n",
    "fert['Crop'] = fert['Crop'].replace('mothbean(matki)','mothbeans')\n",
    "fert['Crop'] = fert['Crop'].replace('chickpeas(channa)','chickpea')"
   ]
  },
  {
   "cell_type": "code",
   "execution_count": 144,
   "id": "45c3d113",
   "metadata": {},
   "outputs": [
    {
     "data": {
      "text/plain": [
       "array(['rice', 'wheat', 'mungbean', 'tea', 'millet', 'maize', 'lentil',\n",
       "       'jute', 'coffee', 'cotton', 'groundnut', 'peas', 'rubber',\n",
       "       'sugarcane', 'tobacco', 'kidneybeans', 'mothbeans', 'coconut',\n",
       "       'blackgram', 'adzukibeans', 'pigeonpeas', 'chickpea', 'banana',\n",
       "       'grapes', 'apple', 'mango', 'muskmelon', 'orange', 'papaya',\n",
       "       'pomegranate', 'watermelon'], dtype=object)"
      ]
     },
     "execution_count": 144,
     "metadata": {},
     "output_type": "execute_result"
    }
   ],
   "source": [
    "crop_names"
   ]
  },
  {
   "cell_type": "code",
   "execution_count": 145,
   "id": "edc38411",
   "metadata": {},
   "outputs": [
    {
     "data": {
      "text/plain": [
       "array(['rice', 'jowar(sorghum)', 'barley(jav)', 'maize',\n",
       "       'ragi(naachnnii)', 'chickpeas(channa)', 'frenchbeans(farasbi)',\n",
       "       'favabeans(papdi-val)', 'limabeans(pavta)', 'clusterbeans(gavar)',\n",
       "       'soyabean', 'blackeyedbeans(chawli)', 'kidneybeans',\n",
       "       'pigeonpeas(toordal)', 'mothbean(matki)', 'mungbeans', 'greenpeas',\n",
       "       'horsegram(kulthi)', 'blackgram', 'rapeseed(mohri)',\n",
       "       'corianderseeds', 'mustardseeds', 'sesameseed', 'cuminseeds',\n",
       "       'lentils(masoordal)', 'brinjal', 'beetroot', 'bittergourd',\n",
       "       'bottlegourd', 'capsicum', 'cabbage', 'carrot', 'cauliflower',\n",
       "       'cucumber', 'corianderleaves', 'curryleaves', 'drumstick–moringa',\n",
       "       'chili', 'ladyfinger', 'mushroom', 'onion', 'potato', 'pumpkin',\n",
       "       'radish', 'olive', 'sweetpotato', 'fenugreekleaf(methi)',\n",
       "       'spinach', 'ridgegourd', 'gooseberry(amla)',\n",
       "       'jambun(syzygiumcumini)', 'ziziphusmauritiana(bor)',\n",
       "       'garciniaindica(kokam)', 'tamarind', 'tapioca(suran)', 'garlic',\n",
       "       'lemon', 'tomato', 'ashgourd', 'pineapple', 'pomegranate',\n",
       "       'banana', 'mango', 'grapes', 'jackfruit', 'guava', 'watermelon',\n",
       "       'muskmelon', 'apricot', 'apple', 'chickoo', 'custardapple',\n",
       "       'dates', 'figs', 'orange', 'papaya', 'aniseed', 'asafoetida',\n",
       "       'bayleaf', 'blackpepper', 'cardamom', 'cinnamon', 'cloves',\n",
       "       'jaiphal(nutmeg)', 'ginger', 'turmeric', 'cashewnuts', 'raisins',\n",
       "       'coconut', 'almondnut', 'arecanut', 'pistachionut', 'lemongrass',\n",
       "       'cotton', 'jute', 'coffee', 'sunflower'], dtype=object)"
      ]
     },
     "execution_count": 145,
     "metadata": {},
     "output_type": "execute_result"
    }
   ],
   "source": [
    "crop_names_from_fert"
   ]
  },
  {
   "cell_type": "code",
   "execution_count": 146,
   "id": "96f68b10",
   "metadata": {},
   "outputs": [
    {
     "name": "stdout",
     "output_type": "stream",
     "text": [
      "      temperature   humidity        ph    rainfall       label\n",
      "0       20.879744  82.002744  6.502985  202.935536        rice\n",
      "1       21.770462  80.319644  7.038096  226.655537        rice\n",
      "2       23.004459  82.320763  7.840207  263.964248        rice\n",
      "3       26.491096  80.158363  6.980401  242.864034        rice\n",
      "4       20.130175  81.604873  7.628473  262.717340        rice\n",
      "...           ...        ...       ...         ...         ...\n",
      "3095    25.287846  89.636679  6.765095   58.286977  watermelon\n",
      "3096    26.638386  84.695469  6.189214   48.324286  watermelon\n",
      "3097    25.331045  84.305338  6.904242   41.532187  watermelon\n",
      "3098    26.897502  83.892415  6.463271   43.971937  watermelon\n",
      "3099    26.986037  89.413849  6.260839   58.548767  watermelon\n",
      "\n",
      "[1700 rows x 5 columns]\n"
     ]
    }
   ],
   "source": [
    "print(crop[crop['label'].isin(crop_names_from_fert)])"
   ]
  },
  {
   "cell_type": "code",
   "execution_count": 147,
   "id": "f5b4d049",
   "metadata": {},
   "outputs": [
    {
     "data": {
      "text/plain": [
       "0             rice\n",
       "1             rice\n",
       "2             rice\n",
       "3             rice\n",
       "4             rice\n",
       "           ...    \n",
       "3095    watermelon\n",
       "3096    watermelon\n",
       "3097    watermelon\n",
       "3098    watermelon\n",
       "3099    watermelon\n",
       "Name: label, Length: 3100, dtype: object"
      ]
     },
     "execution_count": 147,
     "metadata": {},
     "output_type": "execute_result"
    }
   ],
   "source": [
    "crop['label']"
   ]
  },
  {
   "cell_type": "code",
   "execution_count": 148,
   "id": "3f7763f4",
   "metadata": {},
   "outputs": [],
   "source": [
    "extract_labels = []\n",
    "for i in crop_names_from_fert:\n",
    "    if i in crop_names:\n",
    "        extract_labels.append(i)"
   ]
  },
  {
   "cell_type": "code",
   "execution_count": 149,
   "id": "8ba42b3d",
   "metadata": {},
   "outputs": [
    {
     "data": {
      "text/plain": [
       "['rice',\n",
       " 'maize',\n",
       " 'kidneybeans',\n",
       " 'blackgram',\n",
       " 'pomegranate',\n",
       " 'banana',\n",
       " 'mango',\n",
       " 'grapes',\n",
       " 'watermelon',\n",
       " 'muskmelon',\n",
       " 'apple',\n",
       " 'orange',\n",
       " 'papaya',\n",
       " 'coconut',\n",
       " 'cotton',\n",
       " 'jute',\n",
       " 'coffee']"
      ]
     },
     "execution_count": 149,
     "metadata": {},
     "output_type": "execute_result"
    }
   ],
   "source": [
    "extract_labels"
   ]
  },
  {
   "cell_type": "code",
   "execution_count": 150,
   "id": "c15a28e7",
   "metadata": {},
   "outputs": [],
   "source": [
    "# using extract labesl on crop to get all the data related to those labels\n",
    "new_crop = pd.DataFrame(columns = crop.columns)\n",
    "new_fert = pd.DataFrame(columns = fert.columns)"
   ]
  },
  {
   "cell_type": "code",
   "execution_count": 151,
   "id": "a3be8b6d",
   "metadata": {},
   "outputs": [
    {
     "data": {
      "text/html": [
       "<div>\n",
       "<style scoped>\n",
       "    .dataframe tbody tr th:only-of-type {\n",
       "        vertical-align: middle;\n",
       "    }\n",
       "\n",
       "    .dataframe tbody tr th {\n",
       "        vertical-align: top;\n",
       "    }\n",
       "\n",
       "    .dataframe thead th {\n",
       "        text-align: right;\n",
       "    }\n",
       "</style>\n",
       "<table border=\"1\" class=\"dataframe\">\n",
       "  <thead>\n",
       "    <tr style=\"text-align: right;\">\n",
       "      <th></th>\n",
       "      <th>temperature</th>\n",
       "      <th>humidity</th>\n",
       "      <th>ph</th>\n",
       "      <th>rainfall</th>\n",
       "      <th>label</th>\n",
       "    </tr>\n",
       "  </thead>\n",
       "  <tbody>\n",
       "  </tbody>\n",
       "</table>\n",
       "</div>"
      ],
      "text/plain": [
       "Empty DataFrame\n",
       "Columns: [temperature, humidity, ph, rainfall, label]\n",
       "Index: []"
      ]
     },
     "execution_count": 151,
     "metadata": {},
     "output_type": "execute_result"
    }
   ],
   "source": [
    "new_crop.head()"
   ]
  },
  {
   "cell_type": "code",
   "execution_count": 152,
   "id": "f9fc911e",
   "metadata": {},
   "outputs": [
    {
     "data": {
      "text/html": [
       "<div>\n",
       "<style scoped>\n",
       "    .dataframe tbody tr th:only-of-type {\n",
       "        vertical-align: middle;\n",
       "    }\n",
       "\n",
       "    .dataframe tbody tr th {\n",
       "        vertical-align: top;\n",
       "    }\n",
       "\n",
       "    .dataframe thead th {\n",
       "        text-align: right;\n",
       "    }\n",
       "</style>\n",
       "<table border=\"1\" class=\"dataframe\">\n",
       "  <thead>\n",
       "    <tr style=\"text-align: right;\">\n",
       "      <th></th>\n",
       "      <th>Crop</th>\n",
       "      <th>N</th>\n",
       "      <th>P</th>\n",
       "      <th>K</th>\n",
       "      <th>pH</th>\n",
       "    </tr>\n",
       "  </thead>\n",
       "  <tbody>\n",
       "  </tbody>\n",
       "</table>\n",
       "</div>"
      ],
      "text/plain": [
       "Empty DataFrame\n",
       "Columns: [Crop, N, P, K, pH]\n",
       "Index: []"
      ]
     },
     "execution_count": 152,
     "metadata": {},
     "output_type": "execute_result"
    }
   ],
   "source": [
    "new_fert.head()"
   ]
  },
  {
   "cell_type": "code",
   "execution_count": 153,
   "id": "463c4b70",
   "metadata": {},
   "outputs": [],
   "source": [
    "new_crop = crop[crop['label'].isin(extract_labels)]"
   ]
  },
  {
   "cell_type": "code",
   "execution_count": 154,
   "id": "7cc1a491",
   "metadata": {},
   "outputs": [
    {
     "data": {
      "text/plain": [
       "array(['rice', 'maize', 'jute', 'coffee', 'cotton', 'kidneybeans',\n",
       "       'coconut', 'blackgram', 'banana', 'grapes', 'apple', 'mango',\n",
       "       'muskmelon', 'orange', 'papaya', 'pomegranate', 'watermelon'],\n",
       "      dtype=object)"
      ]
     },
     "execution_count": 154,
     "metadata": {},
     "output_type": "execute_result"
    }
   ],
   "source": [
    "new_crop['label'].unique()"
   ]
  },
  {
   "cell_type": "code",
   "execution_count": 155,
   "id": "3e7da0b0",
   "metadata": {},
   "outputs": [],
   "source": [
    "rows = [fert[fert['Crop'] == label].iloc[0] for label in extract_labels]\n",
    "new_fert = pd.DataFrame(rows)"
   ]
  },
  {
   "cell_type": "code",
   "execution_count": 156,
   "id": "49c8536f",
   "metadata": {},
   "outputs": [
    {
     "data": {
      "text/plain": [
       "array(['rice', 'maize', 'kidneybeans', 'blackgram', 'pomegranate',\n",
       "       'banana', 'mango', 'grapes', 'watermelon', 'muskmelon', 'apple',\n",
       "       'orange', 'papaya', 'coconut', 'cotton', 'jute', 'coffee'],\n",
       "      dtype=object)"
      ]
     },
     "execution_count": 156,
     "metadata": {},
     "output_type": "execute_result"
    }
   ],
   "source": [
    "new_fert['Crop'].unique()"
   ]
  },
  {
   "cell_type": "markdown",
   "id": "ad357a23",
   "metadata": {},
   "source": [
    "save the prepare data into raw-data-prepare folder"
   ]
  },
  {
   "cell_type": "code",
   "execution_count": 157,
   "id": "2cf12b49",
   "metadata": {},
   "outputs": [],
   "source": [
    "new_crop.to_csv('../raw-data-prepare/crop_prepare.csv')\n",
    "new_fert.to_csv('../raw-data-prepare/fertilizer_prepare.csv')"
   ]
  }
 ],
 "metadata": {
  "kernelspec": {
   "display_name": "Python 3 (ipykernel)",
   "language": "python",
   "name": "python3"
  },
  "language_info": {
   "codemirror_mode": {
    "name": "ipython",
    "version": 3
   },
   "file_extension": ".py",
   "mimetype": "text/x-python",
   "name": "python",
   "nbconvert_exporter": "python",
   "pygments_lexer": "ipython3",
   "version": "3.11.5"
  }
 },
 "nbformat": 4,
 "nbformat_minor": 5
}
